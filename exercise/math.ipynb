{
  "nbformat": 4,
  "nbformat_minor": 0,
  "metadata": {
    "colab": {
      "name": "math.ipynb",
      "provenance": [],
      "collapsed_sections": []
    },
    "kernelspec": {
      "name": "python3",
      "display_name": "Python 3"
    },
    "language_info": {
      "name": "python"
    }
  },
  "cells": [
    {
      "cell_type": "markdown",
      "source": [
        "## Problem 1:"
      ],
      "metadata": {
        "id": "eI3yeHq7eLGI"
      }
    },
    {
      "cell_type": "markdown",
      "source": [
        "# a) Matrix Transpose\n",
        " $A = \\begin{bmatrix}\n",
        "  a & b  \\\\\n",
        "  c & d  \\\\\n",
        " \\end{bmatrix}$\n",
        "#The transpose of A is:\n",
        "$ A ^{T} = \\begin{bmatrix}\n",
        "  a & c  \\\\\n",
        "  b & d  \\\\\n",
        " \\end{bmatrix}$\n",
        " # What is the transpose of x?\n",
        "$ x = \\begin{bmatrix}\n",
        "  1 & 2 & 3 \\\\\n",
        "  4 & 5 & 6 \\\\\n",
        "  7 & 8 & 9 \\\\\n",
        " \\end{bmatrix}$"
      ],
      "metadata": {
        "id": "jhJmsR16cy-O"
      }
    },
    {
      "cell_type": "markdown",
      "source": [
        "# b) Matrix Vector Product\n",
        "$\\begin{bmatrix}\n",
        "  1 & -1  \\\\\n",
        "  0 & 2  \\\\\n",
        " \\end{bmatrix} * \n",
        " \\begin{bmatrix}\n",
        "  2 \\\\\n",
        "  1 \\\\\n",
        " \\end{bmatrix} = $"
      ],
      "metadata": {
        "id": "NyqOYOBNeM54"
      }
    },
    {
      "cell_type": "markdown",
      "source": [
        "## c) Matrix Inverse\n",
        "$ A = \\begin{bmatrix}\n",
        "  a & b  \\\\\n",
        "  c & d  \\\\\n",
        " \\end{bmatrix}$\n",
        " # The inverse of A is:\n",
        " $\\frac{1}{ad - bc} * \n",
        " \\begin{bmatrix}\n",
        "  d & -b  \\\\\n",
        "  -c & a  \\\\\n",
        " \\end{bmatrix}$\n",
        "# What is the inverse of x?\n",
        "$ x = \\begin{bmatrix}\n",
        "  1 & -1  \\\\\n",
        "  -0 & 2  \\\\\n",
        " \\end{bmatrix}$"
      ],
      "metadata": {
        "id": "nSNxkkcaerCR"
      }
    }
  ]
}